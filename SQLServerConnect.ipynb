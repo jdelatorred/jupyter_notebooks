{
 "cells": [
  {
   "cell_type": "code",
   "execution_count": null,
   "metadata": {},
   "outputs": [],
   "source": [
    "##Importar Librerias"
   ]
  },
  {
   "cell_type": "code",
   "execution_count": 1,
   "metadata": {},
   "outputs": [],
   "source": [
    "import pandas as pd\n",
    "import pyodbc"
   ]
  },
  {
   "cell_type": "code",
   "execution_count": 2,
   "metadata": {},
   "outputs": [],
   "source": [
    "conn = pyodbc.connect('Driver={SQL Server};'\n",
    "                      'Server=JAY-DESK;'\n",
    "                      'Database=DWDiagnostics;'\n",
    "                      'Trusted_Connection=yes;')"
   ]
  },
  {
   "cell_type": "code",
   "execution_count": 3,
   "metadata": {},
   "outputs": [],
   "source": [
    "cursor = conn.cursor()\n",
    "sql_query = pd.read_sql_query('SELECT MachineName, FullName, ModuleName, Message, DateTimePublished FROM pdw_errors WHERE Message IS NOT NULL;',conn)"
   ]
  },
  {
   "cell_type": "code",
   "execution_count": 4,
   "metadata": {},
   "outputs": [
    {
     "name": "stdout",
     "output_type": "stream",
     "text": [
      "    MachineName                                 FullName ModuleName  \\\n",
      "0      JAY-DESK                 WatchdogTimer:ErrorEvent        Dms   \n",
      "1      JAY-DESK  DiagnosticsConnectionWrapper:ErrorEvent        Dms   \n",
      "2      JAY-DESK                  DmvBuffer:CriticalEvent        Dms   \n",
      "3      JAY-DESK  DiagnosticsConnectionWrapper:ErrorEvent        Dms   \n",
      "4      JAY-DESK                  DmvBuffer:CriticalEvent        Dms   \n",
      "..          ...                                      ...        ...   \n",
      "97     JAY-DESK                  DmvBuffer:CriticalEvent        Dms   \n",
      "98     JAY-DESK  DiagnosticsConnectionWrapper:ErrorEvent        Dms   \n",
      "99     JAY-DESK                  DmvBuffer:CriticalEvent        Dms   \n",
      "100    JAY-DESK  DiagnosticsConnectionWrapper:ErrorEvent        Dms   \n",
      "101    JAY-DESK                  DmvBuffer:CriticalEvent        Dms   \n",
      "\n",
      "                                               Message  \\\n",
      "0    \\r\\nMicrosoft.SqlServer.DataWarehouse.DataMove...   \n",
      "1    \\r\\nSystem.Data.SqlClient.SqlException[1225:0]...   \n",
      "2    \\r\\nSystem.Data.SqlClient.SqlException[1225:0]...   \n",
      "3    \\r\\nSystem.Data.SqlClient.SqlException[1225:0]...   \n",
      "4    \\r\\nSystem.Data.SqlClient.SqlException[1225:0]...   \n",
      "..                                                 ...   \n",
      "97   \\r\\nSystem.Data.SqlClient.SqlException[1225:0]...   \n",
      "98   \\r\\nSystem.Data.SqlClient.SqlException[1225:0]...   \n",
      "99   \\r\\nSystem.Data.SqlClient.SqlException[1225:0]...   \n",
      "100  \\r\\nSystem.Data.SqlClient.SqlException[1225:0]...   \n",
      "101  \\r\\nSystem.Data.SqlClient.SqlException[1225:0]...   \n",
      "\n",
      "               DateTimePublished  \n",
      "0    2020-08-19 17:33:14.0800000  \n",
      "1    2020-08-19 17:42:25.8266667  \n",
      "2    2020-08-19 17:42:25.8266667  \n",
      "3    2020-08-19 18:02:05.4666667  \n",
      "4    2020-08-19 18:02:05.4700000  \n",
      "..                           ...  \n",
      "97   2020-08-24 08:44:37.4000000  \n",
      "98   2020-08-24 09:03:35.1266667  \n",
      "99   2020-08-24 09:03:35.1266667  \n",
      "100  2020-08-24 09:22:55.5166667  \n",
      "101  2020-08-24 09:22:55.5166667  \n",
      "\n",
      "[102 rows x 5 columns]\n",
      "<class 'pandas.core.frame.DataFrame'>\n"
     ]
    }
   ],
   "source": [
    "print(sql_query)\n",
    "print(type(sql_query))"
   ]
  },
  {
   "cell_type": "code",
   "execution_count": null,
   "metadata": {},
   "outputs": [],
   "source": []
  }
 ],
 "metadata": {
  "kernelspec": {
   "display_name": "Python 3",
   "language": "python",
   "name": "python3"
  },
  "language_info": {
   "codemirror_mode": {
    "name": "ipython",
    "version": 3
   },
   "file_extension": ".py",
   "mimetype": "text/x-python",
   "name": "python",
   "nbconvert_exporter": "python",
   "pygments_lexer": "ipython3",
   "version": "3.7.7"
  }
 },
 "nbformat": 4,
 "nbformat_minor": 4
}
