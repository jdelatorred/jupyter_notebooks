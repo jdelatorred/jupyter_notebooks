{
 "cells": [
  {
   "cell_type": "code",
   "execution_count": 9,
   "metadata": {},
   "outputs": [],
   "source": [
    "from pymongo import MongoClient\n",
    "from random import randint"
   ]
  },
  {
   "cell_type": "code",
   "execution_count": 10,
   "metadata": {},
   "outputs": [],
   "source": [
    "client = MongoClient(port=27017)"
   ]
  },
  {
   "cell_type": "markdown",
   "metadata": {},
   "source": [
    "# Creacion de Datos"
   ]
  },
  {
   "cell_type": "code",
   "execution_count": 11,
   "metadata": {},
   "outputs": [],
   "source": [
    "db=client.business\n",
    "#Step 2: Create sample data\n",
    "names = ['Kitchen','Animal','State', 'Tastey', 'Big','City','Fish', 'Pizza','Goat', 'Salty','Sandwich','Lazy', 'Fun']\n",
    "company_type = ['LLC','Inc','Company','Corporation']\n",
    "company_cuisine = ['Pizza', 'Bar Food', 'Fast Food', 'Italian', 'Mexican', 'American', 'Sushi Bar', 'Vegetarian']"
   ]
  },
  {
   "cell_type": "code",
   "execution_count": 12,
   "metadata": {},
   "outputs": [],
   "source": [
    "for x in range(1, 501):\n",
    "    business = {\n",
    "        'name' : names[randint(0, (len(names)-1))] + ' ' + names[randint(0, (len(names)-1))]  + ' ' + company_type[randint(0, (len(company_type)-1))],\n",
    "        'rating' : randint(1, 5),\n",
    "        'cuisine' : company_cuisine[randint(0, (len(company_cuisine)-1))] \n",
    "    }\n",
    "    #Step 3: Insert business object directly into MongoDB via isnert_one\n",
    "    result=db.reviews.insert_one(business)"
   ]
  },
  {
   "cell_type": "markdown",
   "metadata": {},
   "source": [
    "# Lectura de Datos"
   ]
  },
  {
   "cell_type": "code",
   "execution_count": 13,
   "metadata": {},
   "outputs": [
    {
     "data": {
      "text/plain": [
       "{'_id': ObjectId('5f441ddf3b4216919197f077'),\n",
       " 'name': 'Fish State Company',\n",
       " 'rating': 5,\n",
       " 'cuisine': 'Mexican',\n",
       " 'likes': 3}"
      ]
     },
     "execution_count": 13,
     "metadata": {},
     "output_type": "execute_result"
    }
   ],
   "source": [
    "fivestar = db.reviews.find_one({'rating': 5})\n",
    "fivestar"
   ]
  },
  {
   "cell_type": "code",
   "execution_count": 14,
   "metadata": {},
   "outputs": [
    {
     "data": {
      "text/plain": [
       "286"
      ]
     },
     "execution_count": 14,
     "metadata": {},
     "output_type": "execute_result"
    }
   ],
   "source": [
    "fivestarcount = db.reviews.count_documents({'rating': 5})\n",
    "fivestarcount"
   ]
  },
  {
   "cell_type": "markdown",
   "metadata": {},
   "source": [
    "# Actualizacion de datos"
   ]
  },
  {
   "cell_type": "code",
   "execution_count": 15,
   "metadata": {},
   "outputs": [
    {
     "name": "stdout",
     "output_type": "stream",
     "text": [
      "A sample document:\n",
      "{'_id': ObjectId('5f441ddf3b4216919197f077'),\n",
      " 'cuisine': 'Mexican',\n",
      " 'likes': 3,\n",
      " 'name': 'Fish State Company',\n",
      " 'rating': 5}\n",
      "Number of documents modified : 1\n",
      "The updated document:\n",
      "{'_id': ObjectId('5f441ddf3b4216919197f077'),\n",
      " 'cuisine': 'Mexican',\n",
      " 'likes': 4,\n",
      " 'name': 'Fish State Company',\n",
      " 'rating': 5}\n"
     ]
    }
   ],
   "source": [
    "db=client.business\n",
    "\n",
    "ASingleReview = db.reviews.find_one({})\n",
    "print('A sample document:')\n",
    "pprint(ASingleReview)\n",
    "\n",
    "result = db.reviews.update_one({'_id' : ASingleReview.get('_id') }, {'$inc': {'likes': 1}})\n",
    "print('Number of documents modified : ' + str(result.modified_count))\n",
    "\n",
    "UpdatedDocument = db.reviews.find_one({'_id':ASingleReview.get('_id')})\n",
    "print('The updated document:')\n",
    "pprint(UpdatedDocument)"
   ]
  },
  {
   "cell_type": "code",
   "execution_count": 16,
   "metadata": {},
   "outputs": [
    {
     "data": {
      "text/plain": [
       "<bound method Database.profiling_info of Database(MongoClient(host=['localhost:27017'], document_class=dict, tz_aware=False, connect=True), 'business')>"
      ]
     },
     "execution_count": 16,
     "metadata": {},
     "output_type": "execute_result"
    }
   ],
   "source": [
    "db.profiling_info"
   ]
  },
  {
   "cell_type": "code",
   "execution_count": null,
   "metadata": {},
   "outputs": [],
   "source": []
  }
 ],
 "metadata": {
  "kernelspec": {
   "display_name": "Python 3",
   "language": "python",
   "name": "python3"
  },
  "language_info": {
   "codemirror_mode": {
    "name": "ipython",
    "version": 3
   },
   "file_extension": ".py",
   "mimetype": "text/x-python",
   "name": "python",
   "nbconvert_exporter": "python",
   "pygments_lexer": "ipython3",
   "version": "3.7.7"
  }
 },
 "nbformat": 4,
 "nbformat_minor": 4
}
